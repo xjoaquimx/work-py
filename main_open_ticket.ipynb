{
 "cells": [
  {
   "cell_type": "code",
   "id": "initial_id",
   "metadata": {
    "collapsed": true
   },
   "source": [
    "from selenium import webdriver\n",
    "from selenium.webdriver.common.by import By\n",
    "from selenium.webdriver.common.keys import Keys\n",
    "import pandas as pd\n",
    "import time, pyautogui, re, json\n",
    "from bs4 import BeautifulSoup\n",
    "from datetime import datetime"
   ],
   "outputs": [],
   "execution_count": null
  },
  {
   "metadata": {},
   "cell_type": "code",
   "source": [
    "driver = webdriver.Chrome()\n",
    "driver.get(\"https://lactalis-dwp.onbmc.com/dwp/app/#/activity\")\n",
    "time.sleep(5)\n",
    "pyautogui.hotkey(\"Esc\")"
   ],
   "id": "cbae14864498d3d8",
   "outputs": [],
   "execution_count": null
  },
  {
   "metadata": {},
   "cell_type": "code",
   "source": [
    "driver.find_element(By.NAME, \"AUTHENTICATION.LOGIN\").send_keys(\"joaquim.junior.terceiro@br.lactalis.com\")\n",
    "driver.find_element(By.NAME, \"AUTHENTICATION.PASSWORD\").send_keys(\"L@ctali_S2024\")\n",
    "driver.find_element(By.NAME, \"validateButton\").click()"
   ],
   "id": "c9236d3f40106513",
   "outputs": [],
   "execution_count": null
  },
  {
   "metadata": {
    "ExecuteTime": {
     "end_time": "2024-07-11T21:15:55.547888Z",
     "start_time": "2024-07-11T21:15:52.293824Z"
    }
   },
   "cell_type": "code",
   "source": [
    "driver.find_element(By.XPATH, '//*[@id=\"start\"]/dwp-activity/div/dwp-events-layout-view[1]/div[3]/div[2]/dwp-events-card-layout/div/div/adapt-multi-card/div/div/div[1]/div/div/adapt-multi-card-slide[1]/dwp-event-card/div/dwp-actions/div/a/span').click()\n",
    "time.sleep(2)\n",
    "driver.find_element(By.XPATH, '//*[@id=\"start\"]/dwp-activity/dwp-event-details/dwp-configurable-content-page/div/div[2]/aside/div[1]/div/dwp-actions/div/a').click()"
   ],
   "id": "301b482bf9abe0fb",
   "outputs": [],
   "execution_count": 108
  },
  {
   "metadata": {
    "ExecuteTime": {
     "end_time": "2024-07-11T21:18:56.905786Z",
     "start_time": "2024-07-11T21:18:56.883630Z"
    }
   },
   "cell_type": "code",
   "source": "df = pd.read_excel('abrir_chamados.xlsx')",
   "id": "412e1be506ffbd93",
   "outputs": [],
   "execution_count": 115
  },
  {
   "metadata": {
    "ExecuteTime": {
     "end_time": "2024-07-11T21:24:04.996215Z",
     "start_time": "2024-07-11T21:24:04.981329Z"
    }
   },
   "cell_type": "code",
   "source": [
    "chamado = df.iloc[0][0]\n",
    "nome = df.iloc[0][1]\n",
    "filial = df.iloc[0][2]\n",
    "diretoria_chamado = df.iloc[0][3]\n",
    "empresa_chamado = df.iloc[0][4]\n",
    "cc = int(df.iloc[0][5])\n",
    "matricula = int(df.iloc[0][6])\n",
    "email = df.iloc[0][7]"
   ],
   "id": "c2a70727cf89ab03",
   "outputs": [
    {
     "name": "stderr",
     "output_type": "stream",
     "text": [
      "C:\\Users\\042006431\\AppData\\Local\\Temp\\ipykernel_1716\\2345956745.py:1: FutureWarning: Series.__getitem__ treating keys as positions is deprecated. In a future version, integer keys will always be treated as labels (consistent with DataFrame behavior). To access a value by position, use `ser.iloc[pos]`\n",
      "  chamado = df.iloc[0][0]\n",
      "C:\\Users\\042006431\\AppData\\Local\\Temp\\ipykernel_1716\\2345956745.py:2: FutureWarning: Series.__getitem__ treating keys as positions is deprecated. In a future version, integer keys will always be treated as labels (consistent with DataFrame behavior). To access a value by position, use `ser.iloc[pos]`\n",
      "  nome = df.iloc[0][1]\n",
      "C:\\Users\\042006431\\AppData\\Local\\Temp\\ipykernel_1716\\2345956745.py:3: FutureWarning: Series.__getitem__ treating keys as positions is deprecated. In a future version, integer keys will always be treated as labels (consistent with DataFrame behavior). To access a value by position, use `ser.iloc[pos]`\n",
      "  filial = df.iloc[0][2]\n",
      "C:\\Users\\042006431\\AppData\\Local\\Temp\\ipykernel_1716\\2345956745.py:4: FutureWarning: Series.__getitem__ treating keys as positions is deprecated. In a future version, integer keys will always be treated as labels (consistent with DataFrame behavior). To access a value by position, use `ser.iloc[pos]`\n",
      "  diretoria_chamado = df.iloc[0][3]\n",
      "C:\\Users\\042006431\\AppData\\Local\\Temp\\ipykernel_1716\\2345956745.py:5: FutureWarning: Series.__getitem__ treating keys as positions is deprecated. In a future version, integer keys will always be treated as labels (consistent with DataFrame behavior). To access a value by position, use `ser.iloc[pos]`\n",
      "  empresa_chamado = df.iloc[0][4]\n",
      "C:\\Users\\042006431\\AppData\\Local\\Temp\\ipykernel_1716\\2345956745.py:6: FutureWarning: Series.__getitem__ treating keys as positions is deprecated. In a future version, integer keys will always be treated as labels (consistent with DataFrame behavior). To access a value by position, use `ser.iloc[pos]`\n",
      "  cc = int(df.iloc[0][5])\n",
      "C:\\Users\\042006431\\AppData\\Local\\Temp\\ipykernel_1716\\2345956745.py:7: FutureWarning: Series.__getitem__ treating keys as positions is deprecated. In a future version, integer keys will always be treated as labels (consistent with DataFrame behavior). To access a value by position, use `ser.iloc[pos]`\n",
      "  matricula = int(df.iloc[0][6])\n",
      "C:\\Users\\042006431\\AppData\\Local\\Temp\\ipykernel_1716\\2345956745.py:8: FutureWarning: Series.__getitem__ treating keys as positions is deprecated. In a future version, integer keys will always be treated as labels (consistent with DataFrame behavior). To access a value by position, use `ser.iloc[pos]`\n",
      "  email = df.iloc[0][7]\n"
     ]
    }
   ],
   "execution_count": 131
  },
  {
   "metadata": {
    "ExecuteTime": {
     "end_time": "2024-07-11T21:24:07.359499Z",
     "start_time": "2024-07-11T21:24:07.350162Z"
    }
   },
   "cell_type": "code",
   "source": [
    "list_diretorias = {\n",
    "    0:'Assuntos Regulatórios',\n",
    "    1:'Captação',\n",
    "    2:'Comercial',\n",
    "    3:'Contoladoria e Gestão - C&G',\n",
    "    4:'Finanças',\n",
    "    5:'Industrial',\n",
    "    6:'Juridico',\n",
    "    7:'Marketing',\n",
    "    8:'Recursos Humanos',\n",
    "    9:'Supply',\n",
    "    10:'Suprimentos',\n",
    "    11:'Tecnologia da Informação'\n",
    "}\n",
    "def obter_indice_diretoria(diretoria):\n",
    "    for indice, nome in list_diretorias.items():\n",
    "        if nome == diretoria:\n",
    "            return indice\n",
    "    return None"
   ],
   "id": "a5f43c7fcc1f6449",
   "outputs": [],
   "execution_count": 132
  },
  {
   "metadata": {
    "ExecuteTime": {
     "end_time": "2024-07-11T21:25:04.423848Z",
     "start_time": "2024-07-11T21:25:04.113920Z"
    }
   },
   "cell_type": "code",
   "source": "driver.find_element(By.CLASS_NAME, 'ng-tns-c111-104').click()",
   "id": "43cd4e6f27f2c73f",
   "outputs": [],
   "execution_count": 138
  },
  {
   "metadata": {
    "ExecuteTime": {
     "end_time": "2024-07-11T21:25:16.571439Z",
     "start_time": "2024-07-11T21:25:16.209949Z"
    }
   },
   "cell_type": "code",
   "source": [
    "driver.find_element(By.CLASS_NAME, 'ng-tns-c111-104').click()\n",
    "driver.find_element(By.CSS_SELECTOR, f'#__456dac81-821f-edf0-dd69-281bab9fc2f7_popup-{obter_indice_diretoria(diretoria_chamado)}').click()"
   ],
   "id": "571463041cafe474",
   "outputs": [],
   "execution_count": 139
  },
  {
   "metadata": {
    "ExecuteTime": {
     "end_time": "2024-07-11T21:04:36.184441Z",
     "start_time": "2024-07-11T21:04:36.179493Z"
    }
   },
   "cell_type": "code",
   "source": [
    "list_empresa = {\n",
    "    0:'Confepar',\n",
    "    1:'Itambé',\n",
    "    2:'Lactalis',\n",
    "    3:'Nutrifont',\n",
    "}\n",
    "def obter_indice_empresa(empresa):\n",
    "    for indice, nome in list_empresa.items():\n",
    "        if nome == empresa:\n",
    "            return indice\n",
    "    return None"
   ],
   "id": "52cc7c021d9e972c",
   "outputs": [],
   "execution_count": 87
  },
  {
   "metadata": {
    "ExecuteTime": {
     "end_time": "2024-07-11T21:05:38.498617Z",
     "start_time": "2024-07-11T21:05:38.030753Z"
    }
   },
   "cell_type": "code",
   "source": [
    "driver.find_element(By.CLASS_NAME, 'ng-tns-c111-367').click()\n",
    "driver.find_element(By.CSS_SELECTOR, f'#__29a621f0-543a-61f3-8e19-d2c87a707390_popup-{obter_indice_empresa(empresa_chamado)}').click()"
   ],
   "id": "7a8de87332220b46",
   "outputs": [],
   "execution_count": 91
  },
  {
   "metadata": {
    "ExecuteTime": {
     "end_time": "2024-07-11T21:04:38.031204Z",
     "start_time": "2024-07-11T21:04:38.023611Z"
    }
   },
   "cell_type": "code",
   "source": [
    "list_pecas = {\n",
    "    6:'HD SSD',\n",
    "    7:'Memoria Ram',\n",
    "    8:'Bateria',\n",
    "    9:'Fonte de alimentação',\n",
    "    10:'Outros',\n",
    "}\n",
    "def obter_indice_peca(peca):\n",
    "    for indice, nome in list_pecas.items():\n",
    "        if nome == peca:\n",
    "            return indice\n",
    "    return None"
   ],
   "id": "e4a8080d95961c71",
   "outputs": [],
   "execution_count": 88
  },
  {
   "metadata": {
    "ExecuteTime": {
     "end_time": "2024-07-11T21:05:58.179204Z",
     "start_time": "2024-07-11T21:05:58.052049Z"
    }
   },
   "cell_type": "code",
   "source": "driver.find_element(By.ID, f'radiobutton-{obter_indice_peca('HD SSD')}').click()",
   "id": "92a8d5996b0f30e4",
   "outputs": [],
   "execution_count": 92
  },
  {
   "metadata": {
    "ExecuteTime": {
     "end_time": "2024-07-11T21:13:37.702337Z",
     "start_time": "2024-07-11T21:13:35.765412Z"
    }
   },
   "cell_type": "code",
   "source": [
    "driver.find_element(By.NAME, '__97b317c6-5b81-5d25-3f17-9de7aa549124').send_keys(filial)\n",
    "driver.find_element(By.NAME, '__97e0d495-a95d-ecbf-ee7c-5cff05b195b6').send_keys(nome)\n",
    "driver.find_element(By.NAME, '__8749f52a-c76f-2a3e-302b-c828e9ca4627').send_keys(nome)\n",
    "driver.find_element(By.NAME, '__977c2261-eded-2e84-3646-781db1c67058').send_keys(matricula)\n",
    "driver.find_element(By.NAME, '__082e0955-63b3-8ff0-96fa-792abb12f7f6').send_keys(cc)\n",
    "driver.find_element(By.NAME, '__6a31882b-79d8-4827-f500-ace68957324d').send_keys(email)\n",
    "driver.find_element(By.NAME, '__53b097ef-1b73-3034-9eb1-08afdbddb186').send_keys(chamado)"
   ],
   "id": "b6f297289728c816",
   "outputs": [],
   "execution_count": 105
  },
  {
   "metadata": {
    "ExecuteTime": {
     "end_time": "2024-07-11T21:14:57.692462Z",
     "start_time": "2024-07-11T21:14:57.543969Z"
    }
   },
   "cell_type": "code",
   "source": [
    "driver.find_element(By.CLASS_NAME, 'btn-primary').click()\n",
    "time.sleep(5)"
   ],
   "id": "9cc2d3f9b7cc46e1",
   "outputs": [],
   "execution_count": 107
  }
 ],
 "metadata": {
  "kernelspec": {
   "display_name": "Python 3",
   "language": "python",
   "name": "python3"
  },
  "language_info": {
   "codemirror_mode": {
    "name": "ipython",
    "version": 2
   },
   "file_extension": ".py",
   "mimetype": "text/x-python",
   "name": "python",
   "nbconvert_exporter": "python",
   "pygments_lexer": "ipython2",
   "version": "2.7.6"
  }
 },
 "nbformat": 4,
 "nbformat_minor": 5
}
