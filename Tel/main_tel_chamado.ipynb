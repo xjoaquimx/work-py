{
 "cells": [
  {
   "cell_type": "code",
   "id": "initial_id",
   "metadata": {
    "collapsed": true,
    "ExecuteTime": {
     "end_time": "2024-07-24T16:35:25.144476Z",
     "start_time": "2024-07-24T16:35:24.082407Z"
    }
   },
   "source": [
    "from selenium import webdriver\n",
    "from selenium.webdriver.chrome.options import Options\n",
    "from selenium.webdriver.common.by import By\n",
    "from selenium.webdriver.support.ui import WebDriverWait\n",
    "from selenium.webdriver.support import expected_conditions as EC\n",
    "import pandas as pd\n",
    "import time, pyautogui, re, json\n",
    "from bs4 import BeautifulSoup\n",
    "from winotify import Notification"
   ],
   "outputs": [],
   "execution_count": 1
  },
  {
   "metadata": {
    "ExecuteTime": {
     "end_time": "2024-07-24T16:35:25.149685Z",
     "start_time": "2024-07-24T16:35:25.144476Z"
    }
   },
   "cell_type": "code",
   "source": [
    "def Verifica(tipo, valor:str):\n",
    "    return WebDriverWait(driver, 10).until(EC.visibility_of_element_located((tipo, valor)))"
   ],
   "id": "49fc980ee5166a6d",
   "outputs": [],
   "execution_count": 2
  },
  {
   "metadata": {
    "ExecuteTime": {
     "end_time": "2024-07-24T16:35:41.480001Z",
     "start_time": "2024-07-24T16:35:25.149685Z"
    }
   },
   "cell_type": "code",
   "source": [
    "driver = webdriver.Chrome()\n",
    "driver.get(\"https://lactalis-smartit.onbmc.com/smartit/app/#/\")\n",
    "time.sleep(5)\n",
    "pyautogui.hotkey(\"Esc\")"
   ],
   "id": "b73ccc8276301ae7",
   "outputs": [],
   "execution_count": 3
  },
  {
   "metadata": {
    "ExecuteTime": {
     "end_time": "2024-07-24T16:36:34.349259Z",
     "start_time": "2024-07-24T16:36:27.239119Z"
    }
   },
   "cell_type": "code",
   "source": [
    "Verifica(By.NAME, \"AUTHENTICATION.LOGIN\").send_keys(\"telefonia.movel@br.lactalis.com\")\n",
    "Verifica(By.NAME, \"AUTHENTICATION.PASSWORD\").send_keys(\"Lactalis@@@2030\")\n",
    "Verifica(By.NAME, \"validateButton\").click()"
   ],
   "id": "acdf31a361743fcd",
   "outputs": [],
   "execution_count": 7
  },
  {
   "metadata": {
    "ExecuteTime": {
     "end_time": "2024-07-24T16:39:13.998020Z",
     "start_time": "2024-07-24T16:39:13.744329Z"
    }
   },
   "cell_type": "code",
   "source": "chamados = pd.read_excel('tel.xlsx')['chamados'].tolist()",
   "id": "7ca2622229bf26bc",
   "outputs": [],
   "execution_count": 8
  },
  {
   "metadata": {
    "ExecuteTime": {
     "end_time": "2024-07-24T16:39:55.303979Z",
     "start_time": "2024-07-24T16:39:55.284774Z"
    }
   },
   "cell_type": "code",
   "source": "frase = pd.read_excel('tel.xlsx', sheet_name='Planilha2')['frases'].tolist()",
   "id": "40fa5b7adc65f989",
   "outputs": [],
   "execution_count": 11
  },
  {
   "metadata": {
    "ExecuteTime": {
     "end_time": "2024-07-24T16:56:47.461510Z",
     "start_time": "2024-07-24T16:56:47.457294Z"
    }
   },
   "cell_type": "code",
   "source": [
    "def Cancelar():\n",
    "    Verifica(By.XPATH, '//*[@id=\"ticket-record-summary\"]/div[3]/div[1]/div/div/div[1]/div').click()\n",
    "    Verifica(By.XPATH, '//*[@id=\"ticket-record-summary\"]/div[3]/div[1]/div/div/div[1]/label/div/button').click()\n",
    "    Verifica(By.XPATH, '//*[@id=\"ticket-record-summary\"]/div[3]/div[1]/div/div/div[1]/label/div/ul/li[6]').click()\n",
    "    Verifica(By.XPATH, '//*[@id=\"ticket-record-summary\"]/div[3]/div[1]/div/div/div[2]/div/label/div/button').click()\n",
    "    Verifica(By.XPATH, '//*[@id=\"ticket-record-summary\"]/div[3]/div[1]/div/div/div[2]/div/label/div/ul/li').click()\n",
    "    Verifica(By.XPATH, '//*[@id=\"ticket-record-summary\"]/div[2]/div/button[1]').click()"
   ],
   "id": "62b44ec0e6ea8861",
   "outputs": [],
   "execution_count": 22
  },
  {
   "metadata": {
    "ExecuteTime": {
     "end_time": "2024-07-24T17:01:04.175413Z",
     "start_time": "2024-07-24T16:56:51.752102Z"
    }
   },
   "cell_type": "code",
   "source": [
    "for chamado in chamados[8:]:\n",
    "    driver.get(f'https://lactalis-smartit.onbmc.com/smartit/app/#/search/{chamado}')\n",
    "    #time.sleep(5)\n",
    "    Verifica(By.XPATH, '//*[@id=\"ticket-record-summary\"]/div[2]/title-bar/div[2]/div/div[1]/div/a').click()\n",
    "    Cancelar()\n",
    "    Verifica(By.CLASS_NAME, 'timeline-widget__add-note-input').click()\n",
    "    Verifica(By.XPATH, '//*[@id=\"main\"]/div/div[4]/div/div/div[1]/div/div[3]/div[2]/div[1]/div[2]/div').send_keys(frase)\n",
    "    Verifica(By.XPATH, '//*[@id=\"main\"]/div/div[4]/div/div/div[1]/div/div[3]/div[2]/div[1]/div[2]/div[2]/label/input').click()\n",
    "    time.sleep(2)\n",
    "    Verifica(By.XPATH, '//*[@id=\"main\"]/div/div[4]/div/div/div[1]/div/div[3]/div[2]/div[2]/div/button[1]').click()\n",
    "    time.sleep(2)"
   ],
   "id": "301eca4e5c5fbee5",
   "outputs": [],
   "execution_count": 23
  }
 ],
 "metadata": {
  "kernelspec": {
   "display_name": "Python 3",
   "language": "python",
   "name": "python3"
  },
  "language_info": {
   "codemirror_mode": {
    "name": "ipython",
    "version": 2
   },
   "file_extension": ".py",
   "mimetype": "text/x-python",
   "name": "python",
   "nbconvert_exporter": "python",
   "pygments_lexer": "ipython2",
   "version": "2.7.6"
  }
 },
 "nbformat": 4,
 "nbformat_minor": 5
}
