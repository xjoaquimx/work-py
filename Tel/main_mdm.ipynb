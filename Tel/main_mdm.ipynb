{
 "cells": [
  {
   "cell_type": "code",
   "id": "initial_id",
   "metadata": {
    "collapsed": true,
    "ExecuteTime": {
     "end_time": "2024-07-29T14:45:49.566842Z",
     "start_time": "2024-07-29T14:45:48.622162Z"
    }
   },
   "source": [
    "from selenium import webdriver\n",
    "from selenium.webdriver.chrome.options import Options\n",
    "from selenium.webdriver.common.by import By\n",
    "from selenium.webdriver.support.ui import WebDriverWait\n",
    "from selenium.webdriver.support import expected_conditions as EC\n",
    "import pandas as pd\n",
    "import time, pyautogui, re, json\n",
    "from bs4 import BeautifulSoup\n",
    "from winotify import Notification"
   ],
   "outputs": [],
   "execution_count": 1
  },
  {
   "metadata": {
    "ExecuteTime": {
     "end_time": "2024-07-29T14:45:49.573155Z",
     "start_time": "2024-07-29T14:45:49.566842Z"
    }
   },
   "cell_type": "code",
   "source": [
    "def Verifica(tipo, valor:str):\n",
    "    return WebDriverWait(driver, 10).until(EC.visibility_of_element_located((tipo, valor)))"
   ],
   "id": "d4336f6579b5491b",
   "outputs": [],
   "execution_count": 2
  },
  {
   "metadata": {
    "ExecuteTime": {
     "end_time": "2024-07-29T14:45:53.351434Z",
     "start_time": "2024-07-29T14:45:49.573155Z"
    }
   },
   "cell_type": "code",
   "source": [
    "driver = webdriver.Chrome()\n",
    "driver.get(\"https://m3.maas360.com/emc/\")"
   ],
   "id": "c8c0d4abd7d40c33",
   "outputs": [],
   "execution_count": 3
  },
  {
   "metadata": {
    "ExecuteTime": {
     "end_time": "2024-07-29T14:46:00.411381Z",
     "start_time": "2024-07-29T14:45:53.353020Z"
    }
   },
   "cell_type": "code",
   "source": [
    "def Login(email:str, psw:str):\n",
    "    Verifica(By.ID, 'EMail').send_keys(email)\n",
    "    Verifica(By.CLASS_NAME, 'loginButton').click()\n",
    "    Verifica(By.ID, 'Password').send_keys(psw)\n",
    "    Verifica(By.CLASS_NAME, 'loginButton').click()\n",
    "Login('matheus', 'lACTALIS@2024@@')"
   ],
   "id": "1b0fdeffd1996a62",
   "outputs": [],
   "execution_count": 4
  },
  {
   "metadata": {
    "ExecuteTime": {
     "end_time": "2024-07-29T14:46:00.540618Z",
     "start_time": "2024-07-29T14:46:00.413381Z"
    }
   },
   "cell_type": "code",
   "source": "Verifica(By.ID, 'tabsmenu_listItem11').click()",
   "id": "4f70e85988784b2f",
   "outputs": [],
   "execution_count": 5
  },
  {
   "metadata": {
    "ExecuteTime": {
     "end_time": "2024-07-29T14:46:04.746917Z",
     "start_time": "2024-07-29T14:46:04.583203Z"
    }
   },
   "cell_type": "code",
   "source": "driver.find_element(By.ID, 'addUserButton')",
   "id": "4e0fd8e1034ce14e",
   "outputs": [
    {
     "ename": "NoSuchElementException",
     "evalue": "Message: no such element: Unable to locate element: {\"method\":\"css selector\",\"selector\":\"[id=\"addUserButton\"]\"}\n  (Session info: chrome=126.0.6478.185); For documentation on this error, please visit: https://www.selenium.dev/documentation/webdriver/troubleshooting/errors#no-such-element-exception\nStacktrace:\n\tGetHandleVerifier [0x00007FF672AAEEB2+31554]\n\t(No symbol) [0x00007FF672A27EE9]\n\t(No symbol) [0x00007FF6728E872A]\n\t(No symbol) [0x00007FF672938434]\n\t(No symbol) [0x00007FF67293853C]\n\t(No symbol) [0x00007FF67297F6A7]\n\t(No symbol) [0x00007FF67295D06F]\n\t(No symbol) [0x00007FF67297C977]\n\t(No symbol) [0x00007FF67295CDD3]\n\t(No symbol) [0x00007FF67292A33B]\n\t(No symbol) [0x00007FF67292AED1]\n\tGetHandleVerifier [0x00007FF672DB8B2D+3217341]\n\tGetHandleVerifier [0x00007FF672E05AF3+3532675]\n\tGetHandleVerifier [0x00007FF672DFB0F0+3489152]\n\tGetHandleVerifier [0x00007FF672B5E786+750614]\n\t(No symbol) [0x00007FF672A3376F]\n\t(No symbol) [0x00007FF672A2EB24]\n\t(No symbol) [0x00007FF672A2ECB2]\n\t(No symbol) [0x00007FF672A1E17F]\n\tBaseThreadInitThunk [0x00007FF93A0A257D+29]\n\tRtlUserThreadStart [0x00007FF93B92AF28+40]\n",
     "output_type": "error",
     "traceback": [
      "\u001B[1;31m---------------------------------------------------------------------------\u001B[0m",
      "\u001B[1;31mNoSuchElementException\u001B[0m                    Traceback (most recent call last)",
      "Cell \u001B[1;32mIn[7], line 1\u001B[0m\n\u001B[1;32m----> 1\u001B[0m \u001B[43mdriver\u001B[49m\u001B[38;5;241;43m.\u001B[39;49m\u001B[43mfind_element\u001B[49m\u001B[43m(\u001B[49m\u001B[43mBy\u001B[49m\u001B[38;5;241;43m.\u001B[39;49m\u001B[43mID\u001B[49m\u001B[43m,\u001B[49m\u001B[43m \u001B[49m\u001B[38;5;124;43m'\u001B[39;49m\u001B[38;5;124;43maddUserButton\u001B[39;49m\u001B[38;5;124;43m'\u001B[39;49m\u001B[43m)\u001B[49m\n",
      "File \u001B[1;32m~\\PycharmProjects\\pythonProject1\\.venv\\Lib\\site-packages\\selenium\\webdriver\\remote\\webdriver.py:741\u001B[0m, in \u001B[0;36mWebDriver.find_element\u001B[1;34m(self, by, value)\u001B[0m\n\u001B[0;32m    738\u001B[0m     by \u001B[38;5;241m=\u001B[39m By\u001B[38;5;241m.\u001B[39mCSS_SELECTOR\n\u001B[0;32m    739\u001B[0m     value \u001B[38;5;241m=\u001B[39m \u001B[38;5;124mf\u001B[39m\u001B[38;5;124m'\u001B[39m\u001B[38;5;124m[name=\u001B[39m\u001B[38;5;124m\"\u001B[39m\u001B[38;5;132;01m{\u001B[39;00mvalue\u001B[38;5;132;01m}\u001B[39;00m\u001B[38;5;124m\"\u001B[39m\u001B[38;5;124m]\u001B[39m\u001B[38;5;124m'\u001B[39m\n\u001B[1;32m--> 741\u001B[0m \u001B[38;5;28;01mreturn\u001B[39;00m \u001B[38;5;28;43mself\u001B[39;49m\u001B[38;5;241;43m.\u001B[39;49m\u001B[43mexecute\u001B[49m\u001B[43m(\u001B[49m\u001B[43mCommand\u001B[49m\u001B[38;5;241;43m.\u001B[39;49m\u001B[43mFIND_ELEMENT\u001B[49m\u001B[43m,\u001B[49m\u001B[43m \u001B[49m\u001B[43m{\u001B[49m\u001B[38;5;124;43m\"\u001B[39;49m\u001B[38;5;124;43musing\u001B[39;49m\u001B[38;5;124;43m\"\u001B[39;49m\u001B[43m:\u001B[49m\u001B[43m \u001B[49m\u001B[43mby\u001B[49m\u001B[43m,\u001B[49m\u001B[43m \u001B[49m\u001B[38;5;124;43m\"\u001B[39;49m\u001B[38;5;124;43mvalue\u001B[39;49m\u001B[38;5;124;43m\"\u001B[39;49m\u001B[43m:\u001B[49m\u001B[43m \u001B[49m\u001B[43mvalue\u001B[49m\u001B[43m}\u001B[49m\u001B[43m)\u001B[49m[\u001B[38;5;124m\"\u001B[39m\u001B[38;5;124mvalue\u001B[39m\u001B[38;5;124m\"\u001B[39m]\n",
      "File \u001B[1;32m~\\PycharmProjects\\pythonProject1\\.venv\\Lib\\site-packages\\selenium\\webdriver\\remote\\webdriver.py:347\u001B[0m, in \u001B[0;36mWebDriver.execute\u001B[1;34m(self, driver_command, params)\u001B[0m\n\u001B[0;32m    345\u001B[0m response \u001B[38;5;241m=\u001B[39m \u001B[38;5;28mself\u001B[39m\u001B[38;5;241m.\u001B[39mcommand_executor\u001B[38;5;241m.\u001B[39mexecute(driver_command, params)\n\u001B[0;32m    346\u001B[0m \u001B[38;5;28;01mif\u001B[39;00m response:\n\u001B[1;32m--> 347\u001B[0m     \u001B[38;5;28;43mself\u001B[39;49m\u001B[38;5;241;43m.\u001B[39;49m\u001B[43merror_handler\u001B[49m\u001B[38;5;241;43m.\u001B[39;49m\u001B[43mcheck_response\u001B[49m\u001B[43m(\u001B[49m\u001B[43mresponse\u001B[49m\u001B[43m)\u001B[49m\n\u001B[0;32m    348\u001B[0m     response[\u001B[38;5;124m\"\u001B[39m\u001B[38;5;124mvalue\u001B[39m\u001B[38;5;124m\"\u001B[39m] \u001B[38;5;241m=\u001B[39m \u001B[38;5;28mself\u001B[39m\u001B[38;5;241m.\u001B[39m_unwrap_value(response\u001B[38;5;241m.\u001B[39mget(\u001B[38;5;124m\"\u001B[39m\u001B[38;5;124mvalue\u001B[39m\u001B[38;5;124m\"\u001B[39m, \u001B[38;5;28;01mNone\u001B[39;00m))\n\u001B[0;32m    349\u001B[0m     \u001B[38;5;28;01mreturn\u001B[39;00m response\n",
      "File \u001B[1;32m~\\PycharmProjects\\pythonProject1\\.venv\\Lib\\site-packages\\selenium\\webdriver\\remote\\errorhandler.py:229\u001B[0m, in \u001B[0;36mErrorHandler.check_response\u001B[1;34m(self, response)\u001B[0m\n\u001B[0;32m    227\u001B[0m         alert_text \u001B[38;5;241m=\u001B[39m value[\u001B[38;5;124m\"\u001B[39m\u001B[38;5;124malert\u001B[39m\u001B[38;5;124m\"\u001B[39m]\u001B[38;5;241m.\u001B[39mget(\u001B[38;5;124m\"\u001B[39m\u001B[38;5;124mtext\u001B[39m\u001B[38;5;124m\"\u001B[39m)\n\u001B[0;32m    228\u001B[0m     \u001B[38;5;28;01mraise\u001B[39;00m exception_class(message, screen, stacktrace, alert_text)  \u001B[38;5;66;03m# type: ignore[call-arg]  # mypy is not smart enough here\u001B[39;00m\n\u001B[1;32m--> 229\u001B[0m \u001B[38;5;28;01mraise\u001B[39;00m exception_class(message, screen, stacktrace)\n",
      "\u001B[1;31mNoSuchElementException\u001B[0m: Message: no such element: Unable to locate element: {\"method\":\"css selector\",\"selector\":\"[id=\"addUserButton\"]\"}\n  (Session info: chrome=126.0.6478.185); For documentation on this error, please visit: https://www.selenium.dev/documentation/webdriver/troubleshooting/errors#no-such-element-exception\nStacktrace:\n\tGetHandleVerifier [0x00007FF672AAEEB2+31554]\n\t(No symbol) [0x00007FF672A27EE9]\n\t(No symbol) [0x00007FF6728E872A]\n\t(No symbol) [0x00007FF672938434]\n\t(No symbol) [0x00007FF67293853C]\n\t(No symbol) [0x00007FF67297F6A7]\n\t(No symbol) [0x00007FF67295D06F]\n\t(No symbol) [0x00007FF67297C977]\n\t(No symbol) [0x00007FF67295CDD3]\n\t(No symbol) [0x00007FF67292A33B]\n\t(No symbol) [0x00007FF67292AED1]\n\tGetHandleVerifier [0x00007FF672DB8B2D+3217341]\n\tGetHandleVerifier [0x00007FF672E05AF3+3532675]\n\tGetHandleVerifier [0x00007FF672DFB0F0+3489152]\n\tGetHandleVerifier [0x00007FF672B5E786+750614]\n\t(No symbol) [0x00007FF672A3376F]\n\t(No symbol) [0x00007FF672A2EB24]\n\t(No symbol) [0x00007FF672A2ECB2]\n\t(No symbol) [0x00007FF672A1E17F]\n\tBaseThreadInitThunk [0x00007FF93A0A257D+29]\n\tRtlUserThreadStart [0x00007FF93B92AF28+40]\n"
     ]
    }
   ],
   "execution_count": 7
  },
  {
   "metadata": {
    "ExecuteTime": {
     "end_time": "2024-07-29T14:46:15.722317Z",
     "start_time": "2024-07-29T14:46:15.644970Z"
    }
   },
   "cell_type": "code",
   "source": "driver.find_element(By.XPATH, '//*[@id=\"addUserBasicForm.fullName\"]').send_keys('test')",
   "id": "9f7e988707d08967",
   "outputs": [
    {
     "ename": "NoSuchElementException",
     "evalue": "Message: no such element: Unable to locate element: {\"method\":\"xpath\",\"selector\":\"//*[@id=\"addUserBasicForm.fullName\"]\"}\n  (Session info: chrome=126.0.6478.185); For documentation on this error, please visit: https://www.selenium.dev/documentation/webdriver/troubleshooting/errors#no-such-element-exception\nStacktrace:\n\tGetHandleVerifier [0x00007FF672AAEEB2+31554]\n\t(No symbol) [0x00007FF672A27EE9]\n\t(No symbol) [0x00007FF6728E872A]\n\t(No symbol) [0x00007FF672938434]\n\t(No symbol) [0x00007FF67293853C]\n\t(No symbol) [0x00007FF67297F6A7]\n\t(No symbol) [0x00007FF67295D06F]\n\t(No symbol) [0x00007FF67297C977]\n\t(No symbol) [0x00007FF67295CDD3]\n\t(No symbol) [0x00007FF67292A33B]\n\t(No symbol) [0x00007FF67292AED1]\n\tGetHandleVerifier [0x00007FF672DB8B2D+3217341]\n\tGetHandleVerifier [0x00007FF672E05AF3+3532675]\n\tGetHandleVerifier [0x00007FF672DFB0F0+3489152]\n\tGetHandleVerifier [0x00007FF672B5E786+750614]\n\t(No symbol) [0x00007FF672A3376F]\n\t(No symbol) [0x00007FF672A2EB24]\n\t(No symbol) [0x00007FF672A2ECB2]\n\t(No symbol) [0x00007FF672A1E17F]\n\tBaseThreadInitThunk [0x00007FF93A0A257D+29]\n\tRtlUserThreadStart [0x00007FF93B92AF28+40]\n",
     "output_type": "error",
     "traceback": [
      "\u001B[1;31m---------------------------------------------------------------------------\u001B[0m",
      "\u001B[1;31mNoSuchElementException\u001B[0m                    Traceback (most recent call last)",
      "Cell \u001B[1;32mIn[9], line 1\u001B[0m\n\u001B[1;32m----> 1\u001B[0m \u001B[43mdriver\u001B[49m\u001B[38;5;241;43m.\u001B[39;49m\u001B[43mfind_element\u001B[49m\u001B[43m(\u001B[49m\u001B[43mBy\u001B[49m\u001B[38;5;241;43m.\u001B[39;49m\u001B[43mXPATH\u001B[49m\u001B[43m,\u001B[49m\u001B[43m \u001B[49m\u001B[38;5;124;43m'\u001B[39;49m\u001B[38;5;124;43m//*[@id=\u001B[39;49m\u001B[38;5;124;43m\"\u001B[39;49m\u001B[38;5;124;43maddUserBasicForm.fullName\u001B[39;49m\u001B[38;5;124;43m\"\u001B[39;49m\u001B[38;5;124;43m]\u001B[39;49m\u001B[38;5;124;43m'\u001B[39;49m\u001B[43m)\u001B[49m\u001B[38;5;241m.\u001B[39msend_keys(\u001B[38;5;124m'\u001B[39m\u001B[38;5;124mtest\u001B[39m\u001B[38;5;124m'\u001B[39m)\n",
      "File \u001B[1;32m~\\PycharmProjects\\pythonProject1\\.venv\\Lib\\site-packages\\selenium\\webdriver\\remote\\webdriver.py:741\u001B[0m, in \u001B[0;36mWebDriver.find_element\u001B[1;34m(self, by, value)\u001B[0m\n\u001B[0;32m    738\u001B[0m     by \u001B[38;5;241m=\u001B[39m By\u001B[38;5;241m.\u001B[39mCSS_SELECTOR\n\u001B[0;32m    739\u001B[0m     value \u001B[38;5;241m=\u001B[39m \u001B[38;5;124mf\u001B[39m\u001B[38;5;124m'\u001B[39m\u001B[38;5;124m[name=\u001B[39m\u001B[38;5;124m\"\u001B[39m\u001B[38;5;132;01m{\u001B[39;00mvalue\u001B[38;5;132;01m}\u001B[39;00m\u001B[38;5;124m\"\u001B[39m\u001B[38;5;124m]\u001B[39m\u001B[38;5;124m'\u001B[39m\n\u001B[1;32m--> 741\u001B[0m \u001B[38;5;28;01mreturn\u001B[39;00m \u001B[38;5;28;43mself\u001B[39;49m\u001B[38;5;241;43m.\u001B[39;49m\u001B[43mexecute\u001B[49m\u001B[43m(\u001B[49m\u001B[43mCommand\u001B[49m\u001B[38;5;241;43m.\u001B[39;49m\u001B[43mFIND_ELEMENT\u001B[49m\u001B[43m,\u001B[49m\u001B[43m \u001B[49m\u001B[43m{\u001B[49m\u001B[38;5;124;43m\"\u001B[39;49m\u001B[38;5;124;43musing\u001B[39;49m\u001B[38;5;124;43m\"\u001B[39;49m\u001B[43m:\u001B[49m\u001B[43m \u001B[49m\u001B[43mby\u001B[49m\u001B[43m,\u001B[49m\u001B[43m \u001B[49m\u001B[38;5;124;43m\"\u001B[39;49m\u001B[38;5;124;43mvalue\u001B[39;49m\u001B[38;5;124;43m\"\u001B[39;49m\u001B[43m:\u001B[49m\u001B[43m \u001B[49m\u001B[43mvalue\u001B[49m\u001B[43m}\u001B[49m\u001B[43m)\u001B[49m[\u001B[38;5;124m\"\u001B[39m\u001B[38;5;124mvalue\u001B[39m\u001B[38;5;124m\"\u001B[39m]\n",
      "File \u001B[1;32m~\\PycharmProjects\\pythonProject1\\.venv\\Lib\\site-packages\\selenium\\webdriver\\remote\\webdriver.py:347\u001B[0m, in \u001B[0;36mWebDriver.execute\u001B[1;34m(self, driver_command, params)\u001B[0m\n\u001B[0;32m    345\u001B[0m response \u001B[38;5;241m=\u001B[39m \u001B[38;5;28mself\u001B[39m\u001B[38;5;241m.\u001B[39mcommand_executor\u001B[38;5;241m.\u001B[39mexecute(driver_command, params)\n\u001B[0;32m    346\u001B[0m \u001B[38;5;28;01mif\u001B[39;00m response:\n\u001B[1;32m--> 347\u001B[0m     \u001B[38;5;28;43mself\u001B[39;49m\u001B[38;5;241;43m.\u001B[39;49m\u001B[43merror_handler\u001B[49m\u001B[38;5;241;43m.\u001B[39;49m\u001B[43mcheck_response\u001B[49m\u001B[43m(\u001B[49m\u001B[43mresponse\u001B[49m\u001B[43m)\u001B[49m\n\u001B[0;32m    348\u001B[0m     response[\u001B[38;5;124m\"\u001B[39m\u001B[38;5;124mvalue\u001B[39m\u001B[38;5;124m\"\u001B[39m] \u001B[38;5;241m=\u001B[39m \u001B[38;5;28mself\u001B[39m\u001B[38;5;241m.\u001B[39m_unwrap_value(response\u001B[38;5;241m.\u001B[39mget(\u001B[38;5;124m\"\u001B[39m\u001B[38;5;124mvalue\u001B[39m\u001B[38;5;124m\"\u001B[39m, \u001B[38;5;28;01mNone\u001B[39;00m))\n\u001B[0;32m    349\u001B[0m     \u001B[38;5;28;01mreturn\u001B[39;00m response\n",
      "File \u001B[1;32m~\\PycharmProjects\\pythonProject1\\.venv\\Lib\\site-packages\\selenium\\webdriver\\remote\\errorhandler.py:229\u001B[0m, in \u001B[0;36mErrorHandler.check_response\u001B[1;34m(self, response)\u001B[0m\n\u001B[0;32m    227\u001B[0m         alert_text \u001B[38;5;241m=\u001B[39m value[\u001B[38;5;124m\"\u001B[39m\u001B[38;5;124malert\u001B[39m\u001B[38;5;124m\"\u001B[39m]\u001B[38;5;241m.\u001B[39mget(\u001B[38;5;124m\"\u001B[39m\u001B[38;5;124mtext\u001B[39m\u001B[38;5;124m\"\u001B[39m)\n\u001B[0;32m    228\u001B[0m     \u001B[38;5;28;01mraise\u001B[39;00m exception_class(message, screen, stacktrace, alert_text)  \u001B[38;5;66;03m# type: ignore[call-arg]  # mypy is not smart enough here\u001B[39;00m\n\u001B[1;32m--> 229\u001B[0m \u001B[38;5;28;01mraise\u001B[39;00m exception_class(message, screen, stacktrace)\n",
      "\u001B[1;31mNoSuchElementException\u001B[0m: Message: no such element: Unable to locate element: {\"method\":\"xpath\",\"selector\":\"//*[@id=\"addUserBasicForm.fullName\"]\"}\n  (Session info: chrome=126.0.6478.185); For documentation on this error, please visit: https://www.selenium.dev/documentation/webdriver/troubleshooting/errors#no-such-element-exception\nStacktrace:\n\tGetHandleVerifier [0x00007FF672AAEEB2+31554]\n\t(No symbol) [0x00007FF672A27EE9]\n\t(No symbol) [0x00007FF6728E872A]\n\t(No symbol) [0x00007FF672938434]\n\t(No symbol) [0x00007FF67293853C]\n\t(No symbol) [0x00007FF67297F6A7]\n\t(No symbol) [0x00007FF67295D06F]\n\t(No symbol) [0x00007FF67297C977]\n\t(No symbol) [0x00007FF67295CDD3]\n\t(No symbol) [0x00007FF67292A33B]\n\t(No symbol) [0x00007FF67292AED1]\n\tGetHandleVerifier [0x00007FF672DB8B2D+3217341]\n\tGetHandleVerifier [0x00007FF672E05AF3+3532675]\n\tGetHandleVerifier [0x00007FF672DFB0F0+3489152]\n\tGetHandleVerifier [0x00007FF672B5E786+750614]\n\t(No symbol) [0x00007FF672A3376F]\n\t(No symbol) [0x00007FF672A2EB24]\n\t(No symbol) [0x00007FF672A2ECB2]\n\t(No symbol) [0x00007FF672A1E17F]\n\tBaseThreadInitThunk [0x00007FF93A0A257D+29]\n\tRtlUserThreadStart [0x00007FF93B92AF28+40]\n"
     ]
    }
   ],
   "execution_count": 9
  }
 ],
 "metadata": {
  "kernelspec": {
   "display_name": "Python 3",
   "language": "python",
   "name": "python3"
  },
  "language_info": {
   "codemirror_mode": {
    "name": "ipython",
    "version": 2
   },
   "file_extension": ".py",
   "mimetype": "text/x-python",
   "name": "python",
   "nbconvert_exporter": "python",
   "pygments_lexer": "ipython2",
   "version": "2.7.6"
  }
 },
 "nbformat": 4,
 "nbformat_minor": 5
}
