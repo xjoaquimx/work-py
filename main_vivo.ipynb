{
 "cells": [
  {
   "cell_type": "code",
   "id": "initial_id",
   "metadata": {
    "collapsed": true,
    "ExecuteTime": {
     "end_time": "2024-07-24T18:07:54.540117Z",
     "start_time": "2024-07-24T18:07:52.496365Z"
    }
   },
   "source": [
    "from selenium import webdriver\n",
    "from selenium.webdriver.common.by import By\n",
    "from selenium.webdriver.support.ui import WebDriverWait\n",
    "from selenium.webdriver.support import expected_conditions as EC\n",
    "from selenium.webdriver.common.keys import Keys\n",
    "import pandas as pd\n",
    "import time, pyautogui, re, json\n",
    "from bs4 import BeautifulSoup\n",
    "from datetime import datetime"
   ],
   "outputs": [],
   "execution_count": 1
  },
  {
   "metadata": {
    "ExecuteTime": {
     "end_time": "2024-07-24T18:08:01.441033Z",
     "start_time": "2024-07-24T18:07:54.540117Z"
    }
   },
   "cell_type": "code",
   "source": [
    "driver = webdriver.Chrome()\n",
    "driver.get(\"https://mve.vivo.com.br/\")\n",
    "time.sleep(3)"
   ],
   "id": "d75c5ea951690b33",
   "outputs": [],
   "execution_count": 2
  },
  {
   "metadata": {
    "ExecuteTime": {
     "end_time": "2024-07-24T18:08:01.445724Z",
     "start_time": "2024-07-24T18:08:01.441647Z"
    }
   },
   "cell_type": "code",
   "source": [
    "def Verifica(tipo, valor:str):\n",
    "    return WebDriverWait(driver, 10).until(EC.visibility_of_element_located((tipo, valor)))"
   ],
   "id": "688afe10abc5ef5a",
   "outputs": [],
   "execution_count": 3
  },
  {
   "metadata": {
    "ExecuteTime": {
     "end_time": "2024-07-24T18:08:06.387737Z",
     "start_time": "2024-07-24T18:08:01.448720Z"
    }
   },
   "cell_type": "code",
   "source": [
    "Verifica(By.XPATH, '//*[@id=\"login-input\"]').send_keys('matheus.lima@br.lactalis.com')\n",
    "driver.find_element(By.XPATH, '//*[@id=\"form-login\"]/div[4]/button').click()\n",
    "\n",
    "time.sleep(2)\n",
    "driver.find_element(By.XPATH, '//*[@id=\"form-login\"]/div[2]/div/div/input').send_keys('Lactalis@230366')\n",
    "driver.find_element(By.XPATH, '//*[@id=\"form-login\"]/div[4]/button').click()\n",
    "time.sleep(2)"
   ],
   "id": "6b0bfbe20046c0fb",
   "outputs": [],
   "execution_count": 4
  },
  {
   "metadata": {
    "ExecuteTime": {
     "end_time": "2024-07-24T18:08:16.659700Z",
     "start_time": "2024-07-24T18:08:06.388618Z"
    }
   },
   "cell_type": "code",
   "source": [
    "Verifica(By.XPATH, '//*[@id=\"customer-select-desktop\"]').click()\n",
    "time.sleep(2)\n",
    "driver.find_element(By.XPATH, '//*[@id=\"customer-search-input\"]').send_keys('1021')\n",
    "time.sleep(2)\n",
    "driver.find_element(By.XPATH, '//*[@id=\"customer-select-slider-list\"]/ul/li/ul/li').click()"
   ],
   "id": "448ed3d6cc5b79eb",
   "outputs": [],
   "execution_count": 5
  },
  {
   "metadata": {
    "ExecuteTime": {
     "end_time": "2024-07-24T18:08:17.679286Z",
     "start_time": "2024-07-24T18:08:16.659700Z"
    }
   },
   "cell_type": "code",
   "source": [
    "driver.fullscreen_window()\n",
    "Verifica(By.XPATH, '//*[@id=\"menu-desktop-wrapper\"]/nav/ul/li[3]/span').click()\n",
    "#time.sleep(2)\n",
    "Verifica(By.XPATH, '//*[@id=\"menu-desktop-wrapper\"]/nav/ul/li[3]/div/div/div/div/ul/li[3]/span').click()"
   ],
   "id": "199e31e840a0d110",
   "outputs": [],
   "execution_count": 6
  },
  {
   "metadata": {
    "ExecuteTime": {
     "end_time": "2024-07-24T18:08:18.266659Z",
     "start_time": "2024-07-24T18:08:17.683648Z"
    }
   },
   "cell_type": "code",
   "source": "list_linhas = pd.read_excel('Vivo2.xlsx')['Service Id'].tolist()",
   "id": "ecf0e1cb4904b2c",
   "outputs": [],
   "execution_count": 7
  },
  {
   "metadata": {
    "ExecuteTime": {
     "end_time": "2024-07-24T18:08:18.272460Z",
     "start_time": "2024-07-24T18:08:18.267631Z"
    }
   },
   "cell_type": "code",
   "source": [
    "def AtivarChip():\n",
    "    Verifica(By.XPATH, '//*[@id=\"main-content\"]/div/main/div/div/div/section/div/section/div/table/tbody/tr/td[4]/div/button').click()\n",
    "    #time.sleep(1)\n",
    "    Verifica(By.XPATH, '//*[@id=\"main-content\"]/div/main/div/div/div/section/div/div[2]/div/div[2]/section/section/div[1]/div/div/div[11]/div/div/div/div[2]/div/div').click()\n",
    "    #time.sleep(1)\n",
    "    Verifica(By.XPATH, '//*[@id=\"main-content\"]/div/main/div/div/div/section/div/div[2]/div/div[2]/section/section/div[1]/div/div/button').click()\n",
    "    time.sleep(3)\n",
    "    "
   ],
   "id": "b9d5f9f02cf79ac1",
   "outputs": [],
   "execution_count": 8
  },
  {
   "metadata": {
    "ExecuteTime": {
     "end_time": "2024-07-24T18:13:04.198759Z",
     "start_time": "2024-07-24T18:08:44.787281Z"
    }
   },
   "cell_type": "code",
   "source": [
    "situações = []\n",
    "situações_inativas = []\n",
    "situações_ativas = []\n",
    "situações_outras = []\n",
    "\n",
    "for linha in list_linhas:\n",
    "    \n",
    "    driver.find_element(By.XPATH, '//*[@id=\"main-content\"]/div/main/div/div/div/div/div/div[2]/div/div[1]').click()\n",
    "    #time.sleep(1)\n",
    "    driver.find_element(By.XPATH, '//*[@id=\"filterInput\"]').send_keys(linha)\n",
    "    #time.sleep(1)\n",
    "    driver.find_element(By.XPATH, '//*[@id=\"main-content\"]/div/main/div/div/div/div/div/div[1]/div/div/div/button').click()\n",
    "    #time.sleep(1)\n",
    "    while True:\n",
    "        #time.sleep(1)\n",
    "        try:\n",
    "            try:\n",
    "                situacao = Verifica(By.XPATH, '//*[@id=\"main-content\"]/div/main/div[1]/div/div/section/div/section/div/table/tbody/tr/td[2]/h3').text\n",
    "            except: \n",
    "                situacao = Verifica(By.XPATH, '//*[@id=\"main-content\"]/div/main/div[1]/div/div/section/div/section/div/table/tbody/tr/td[2]').text\n",
    "            if situacao == 'Inativa':\n",
    "                json_linha = [linha, situacao]\n",
    "                situações_inativas.append(json_linha)\n",
    "                AtivarChip()\n",
    "                print(json_linha)\n",
    "            elif situacao == 'Ativa':\n",
    "                json_linha = [linha, situacao]\n",
    "                situações_ativas.append(json_linha)\n",
    "                print(json_linha)\n",
    "            else:\n",
    "                json_linha = [linha, situacao]\n",
    "                situações_outras.append(json_linha)\n",
    "                print(json_linha)\n",
    "            break\n",
    "        except:\n",
    "            continue\n",
    "    #time.sleep(3)\n",
    "    #Verifica(By.XPATH, '//*[@id=\"main-content\"]/div/main/div/div/div/div/div/div[1]/div/div/div/button').click()\n",
    "situações.append(situações_inativas)\n",
    "situações.append(situações_ativas)\n",
    "situações.append(situações_outras)\n",
    "print(situações)"
   ],
   "id": "25aadf9a27aee26b",
   "outputs": [
    {
     "name": "stdout",
     "output_type": "stream",
     "text": [
      "[21995455169, 'Ativa']\n",
      "[41984724638, 'Ativa']\n",
      "[42991430062, 'Ativa']\n",
      "[48991479424, 'Ativa']\n",
      "[51997269915, 'Ativa']\n",
      "[61996747741, 'Ativa']\n",
      "[62998780476, 'Ativa']\n",
      "[81988809538, 'Ativa']\n",
      "[91992322948, 'Ativa']\n",
      "[21997532205, 'Ativa']\n",
      "[21971799491, 'Ativa']\n",
      "[21995856866, 'Ativa']\n",
      "[21972564140, 'Ativa']\n",
      "[21996831085, 'Ativa']\n",
      "[21972216720, 'Ativa']\n",
      "[21967688112, 'Ativa']\n",
      "[21967783388, 'Ativa']\n",
      "[21995874076, 'Ativa']\n",
      "[21967725982, 'Ativa']\n",
      "[21997477220, 'Ativa']\n",
      "[41984818426, 'Ativa']\n",
      "[41984991658, 'Ativa']\n",
      "[41992147462, 'Ativa']\n",
      "[41992694726, 'Ativa']\n",
      "[41984118326, 'Ativa']\n",
      "[41985160526, 'Ativa']\n",
      "[42991048871, 'Ativa']\n",
      "[42984354257, 'Ativa']\n",
      "[42991265063, 'Ativa']\n",
      "[42991658558, 'Ativa']\n",
      "[42984403025, 'Ativa']\n",
      "[42984357259, 'Ativa']\n",
      "[48991980074, 'Ativa']\n",
      "[48991460970, 'Ativa']\n",
      "[48991461898, 'Ativa']\n",
      "[48991552789, 'Ativa']\n",
      "[48991755823, 'Ativa']\n",
      "[48991251705, 'Ativa']\n",
      "[51996373102, 'Ativa']\n",
      "[51997545317, 'Ativa']\n",
      "[51999232806, 'Ativa']\n",
      "[51997050443, 'Ativa']\n",
      "[51996222638, 'Ativa']\n",
      "[51980275382, 'Ativa']\n",
      "[51996298855, 'Ativa']\n",
      "[51997033193, 'Ativa']\n",
      "[51996216468, 'Ativa']\n",
      "[51980203407, 'Ativa']\n",
      "[51995672168, 'Ativa']\n",
      "[51997717239, 'Ativa']\n",
      "[51998763762, 'Ativa']\n",
      "[51980553345, 'Ativa']\n",
      "[61998529485, 'Ativa']\n",
      "[61998419386, 'Ativa']\n",
      "[62998567011, 'Ativa']\n",
      "[62998707632, 'Ativa']\n",
      "[62998742690, 'Ativa']\n",
      "[81986929355, 'Ativa']\n",
      "[91991509557, 'Ativa']\n",
      "[91992179229, 'Ativa']\n",
      "[91993336104, 'Ativa']\n",
      "[91992279670, 'Ativa']\n",
      "[11997563182, 'Ativa']\n",
      "[13998047073, 'Ativa']\n",
      "[17997377383, 'Ativa']\n",
      "[19999323406, 'Ativa']\n",
      "[11937252776, 'Ativa']\n",
      "[11955857837, 'Ativa']\n",
      "[11911968475, 'Ativa']\n",
      "[11912990057, 'Ativa']\n",
      "[11956733990, 'Ativa']\n",
      "[11930816114, 'Ativa']\n",
      "[11917501791, 'Ativa']\n",
      "[11995866535, 'Ativa']\n",
      "[11999331797, 'Ativa']\n",
      "[11997031671, 'Ativa']\n",
      "[11943623409, 'Ativa']\n",
      "[11953042150, 'Ativa']\n",
      "[11914492557, 'Ativa']\n",
      "[11942217018, 'Ativa']\n",
      "[11995293971, 'Ativa']\n",
      "[11942945392, 'Ativa']\n",
      "[11933769032, 'Ativa']\n",
      "[11996312699, 'Ativa']\n",
      "[11910525682, 'Ativa']\n",
      "[11974898217, 'Ativa']\n",
      "[11961956820, 'Ativa']\n",
      "[11937097387, 'Ativa']\n",
      "[11937737663, 'Ativa']\n",
      "[11910395475, 'Ativa']\n",
      "[11916822047, 'Ativa']\n",
      "[11912128812, 'Ativa']\n",
      "[11914381253, 'Ativa']\n",
      "[11995421272, 'Ativa']\n",
      "[11941244340, 'Ativa']\n",
      "[11916256049, 'Ativa']\n",
      "[11941344404, 'Ativa']\n",
      "[11911654184, 'Ativa']\n",
      "[11974943929, 'Ativa']\n",
      "[11917350628, 'Ativa']\n",
      "[11930260134, 'Ativa']\n",
      "[11918358669, 'Ativa']\n",
      "[11910840644, 'Ativa']\n",
      "[11961875722, 'Ativa']\n",
      "[11955554713, 'Ativa']\n",
      "[11995710603, 'Ativa']\n",
      "[11915515865, 'Ativa']\n",
      "[11941637631, 'Ativa']\n",
      "[11974958291, 'Ativa']\n",
      "[11918537699, 'Ativa']\n",
      "[11957771032, 'Ativa']\n",
      "[11916725573, 'Ativa']\n",
      "[11916494510, 'Ativa']\n",
      "[11997577837, 'Ativa']\n",
      "[11919213273, 'Ativa']\n",
      "[11930950403, 'Ativa']\n",
      "[11934166858, 'Ativa']\n",
      "[11916181536, 'Ativa']\n",
      "[11974675305, 'Ativa']\n",
      "[11912616299, 'Ativa']\n",
      "[11941189461, 'Ativa']\n",
      "[11941540594, 'Ativa']\n",
      "[11918591055, 'Ativa']\n",
      "[11917769114, 'Ativa']\n",
      "[11911679784, 'Ativa']\n",
      "[11916460690, 'Ativa']\n",
      "[11911201927, 'Ativa']\n",
      "[11918939998, 'Ativa']\n",
      "[11917287587, 'Ativa']\n",
      "[11919415407, 'Ativa']\n",
      "[11919625629, 'Ativa']\n",
      "[11932660152, 'Ativa']\n",
      "[11971836757, 'Ativa']\n",
      "[11915623130, 'Ativa']\n",
      "[11997425780, 'Ativa']\n",
      "[11996233281, 'Ativa']\n",
      "[11942462869, 'Ativa']\n",
      "[11943311170, 'Ativa']\n",
      "[11911704213, 'Ativa']\n",
      "[11915511682, 'Ativa']\n",
      "[13997832840, 'Ativa']\n",
      "[13996587398, 'Ativa']\n",
      "[13998077399, 'Ativa']\n",
      "[13997583923, 'Ativa']\n",
      "[13996774552, 'Ativa']\n",
      "[17997289486, 'Ativa']\n",
      "[17996144600, 'Ativa']\n",
      "[17996290572, 'Ativa']\n",
      "[17997397498, 'Ativa']\n",
      "[17996133468, 'Ativa']\n",
      "[17996699571, 'Ativa']\n",
      "[17996550260, 'Ativa']\n",
      "[19998239256, 'Ativa']\n",
      "[19996539968, 'Ativa']\n",
      "[19997861048, 'Ativa']\n",
      "[19998649694, 'Ativa']\n",
      "[19997786426, 'Ativa']\n",
      "[19999582130, 'Ativa']\n",
      "[[], [[21995455169, 'Ativa'], [41984724638, 'Ativa'], [42991430062, 'Ativa'], [48991479424, 'Ativa'], [51997269915, 'Ativa'], [61996747741, 'Ativa'], [62998780476, 'Ativa'], [81988809538, 'Ativa'], [91992322948, 'Ativa'], [21997532205, 'Ativa'], [21971799491, 'Ativa'], [21995856866, 'Ativa'], [21972564140, 'Ativa'], [21996831085, 'Ativa'], [21972216720, 'Ativa'], [21967688112, 'Ativa'], [21967783388, 'Ativa'], [21995874076, 'Ativa'], [21967725982, 'Ativa'], [21997477220, 'Ativa'], [41984818426, 'Ativa'], [41984991658, 'Ativa'], [41992147462, 'Ativa'], [41992694726, 'Ativa'], [41984118326, 'Ativa'], [41985160526, 'Ativa'], [42991048871, 'Ativa'], [42984354257, 'Ativa'], [42991265063, 'Ativa'], [42991658558, 'Ativa'], [42984403025, 'Ativa'], [42984357259, 'Ativa'], [48991980074, 'Ativa'], [48991460970, 'Ativa'], [48991461898, 'Ativa'], [48991552789, 'Ativa'], [48991755823, 'Ativa'], [48991251705, 'Ativa'], [51996373102, 'Ativa'], [51997545317, 'Ativa'], [51999232806, 'Ativa'], [51997050443, 'Ativa'], [51996222638, 'Ativa'], [51980275382, 'Ativa'], [51996298855, 'Ativa'], [51997033193, 'Ativa'], [51996216468, 'Ativa'], [51980203407, 'Ativa'], [51995672168, 'Ativa'], [51997717239, 'Ativa'], [51998763762, 'Ativa'], [51980553345, 'Ativa'], [61998529485, 'Ativa'], [61998419386, 'Ativa'], [62998567011, 'Ativa'], [62998707632, 'Ativa'], [62998742690, 'Ativa'], [81986929355, 'Ativa'], [91991509557, 'Ativa'], [91992179229, 'Ativa'], [91993336104, 'Ativa'], [91992279670, 'Ativa'], [11997563182, 'Ativa'], [13998047073, 'Ativa'], [17997377383, 'Ativa'], [19999323406, 'Ativa'], [11937252776, 'Ativa'], [11955857837, 'Ativa'], [11911968475, 'Ativa'], [11912990057, 'Ativa'], [11956733990, 'Ativa'], [11930816114, 'Ativa'], [11917501791, 'Ativa'], [11995866535, 'Ativa'], [11999331797, 'Ativa'], [11997031671, 'Ativa'], [11943623409, 'Ativa'], [11953042150, 'Ativa'], [11914492557, 'Ativa'], [11942217018, 'Ativa'], [11995293971, 'Ativa'], [11942945392, 'Ativa'], [11933769032, 'Ativa'], [11996312699, 'Ativa'], [11910525682, 'Ativa'], [11974898217, 'Ativa'], [11961956820, 'Ativa'], [11937097387, 'Ativa'], [11937737663, 'Ativa'], [11910395475, 'Ativa'], [11916822047, 'Ativa'], [11912128812, 'Ativa'], [11914381253, 'Ativa'], [11995421272, 'Ativa'], [11941244340, 'Ativa'], [11916256049, 'Ativa'], [11941344404, 'Ativa'], [11911654184, 'Ativa'], [11974943929, 'Ativa'], [11917350628, 'Ativa'], [11930260134, 'Ativa'], [11918358669, 'Ativa'], [11910840644, 'Ativa'], [11961875722, 'Ativa'], [11955554713, 'Ativa'], [11995710603, 'Ativa'], [11915515865, 'Ativa'], [11941637631, 'Ativa'], [11974958291, 'Ativa'], [11918537699, 'Ativa'], [11957771032, 'Ativa'], [11916725573, 'Ativa'], [11916494510, 'Ativa'], [11997577837, 'Ativa'], [11919213273, 'Ativa'], [11930950403, 'Ativa'], [11934166858, 'Ativa'], [11916181536, 'Ativa'], [11974675305, 'Ativa'], [11912616299, 'Ativa'], [11941189461, 'Ativa'], [11941540594, 'Ativa'], [11918591055, 'Ativa'], [11917769114, 'Ativa'], [11911679784, 'Ativa'], [11916460690, 'Ativa'], [11911201927, 'Ativa'], [11918939998, 'Ativa'], [11917287587, 'Ativa'], [11919415407, 'Ativa'], [11919625629, 'Ativa'], [11932660152, 'Ativa'], [11971836757, 'Ativa'], [11915623130, 'Ativa'], [11997425780, 'Ativa'], [11996233281, 'Ativa'], [11942462869, 'Ativa'], [11943311170, 'Ativa'], [11911704213, 'Ativa'], [11915511682, 'Ativa'], [13997832840, 'Ativa'], [13996587398, 'Ativa'], [13998077399, 'Ativa'], [13997583923, 'Ativa'], [13996774552, 'Ativa'], [17997289486, 'Ativa'], [17996144600, 'Ativa'], [17996290572, 'Ativa'], [17997397498, 'Ativa'], [17996133468, 'Ativa'], [17996699571, 'Ativa'], [17996550260, 'Ativa'], [19998239256, 'Ativa'], [19996539968, 'Ativa'], [19997861048, 'Ativa'], [19998649694, 'Ativa'], [19997786426, 'Ativa'], [19999582130, 'Ativa']], []]\n"
     ]
    }
   ],
   "execution_count": 10
  }
 ],
 "metadata": {
  "kernelspec": {
   "display_name": "Python 3",
   "language": "python",
   "name": "python3"
  },
  "language_info": {
   "codemirror_mode": {
    "name": "ipython",
    "version": 2
   },
   "file_extension": ".py",
   "mimetype": "text/x-python",
   "name": "python",
   "nbconvert_exporter": "python",
   "pygments_lexer": "ipython2",
   "version": "2.7.6"
  }
 },
 "nbformat": 4,
 "nbformat_minor": 5
}
